{
 "cells": [
  {
   "cell_type": "code",
   "execution_count": 1,
   "id": "b11b8d8d",
   "metadata": {
    "execution": {
     "iopub.execute_input": "2023-04-17T00:25:58.260170Z",
     "iopub.status.busy": "2023-04-17T00:25:58.259666Z",
     "iopub.status.idle": "2023-04-17T00:26:00.516063Z",
     "shell.execute_reply": "2023-04-17T00:26:00.514810Z"
    },
    "papermill": {
     "duration": 2.268633,
     "end_time": "2023-04-17T00:26:00.519425",
     "exception": false,
     "start_time": "2023-04-17T00:25:58.250792",
     "status": "completed"
    },
    "tags": []
   },
   "outputs": [],
   "source": [
    "import numpy as np\n",
    "import pandas as pd\n",
    "\n",
    "\n",
    "import matplotlib.pyplot as plt\n",
    "from sklearn import *\n",
    "import glob\n",
    "\n",
    "import gc\n",
    "from tqdm.auto import tqdm"
   ]
  },
  {
   "cell_type": "code",
   "execution_count": 2,
   "id": "aac067bd",
   "metadata": {
    "execution": {
     "iopub.execute_input": "2023-04-17T00:26:00.531912Z",
     "iopub.status.busy": "2023-04-17T00:26:00.531465Z",
     "iopub.status.idle": "2023-04-17T00:26:00.537438Z",
     "shell.execute_reply": "2023-04-17T00:26:00.536232Z"
    },
    "papermill": {
     "duration": 0.015754,
     "end_time": "2023-04-17T00:26:00.540598",
     "exception": false,
     "start_time": "2023-04-17T00:26:00.524844",
     "status": "completed"
    },
    "tags": []
   },
   "outputs": [],
   "source": [
    "path = '/kaggle/input/tlvmc-parkinsons-freezing-gait-prediction/'"
   ]
  },
  {
   "cell_type": "code",
   "execution_count": 3,
   "id": "5197ba9b",
   "metadata": {
    "execution": {
     "iopub.execute_input": "2023-04-17T00:26:00.554113Z",
     "iopub.status.busy": "2023-04-17T00:26:00.553389Z",
     "iopub.status.idle": "2023-04-17T00:26:00.630953Z",
     "shell.execute_reply": "2023-04-17T00:26:00.628994Z"
    },
    "papermill": {
     "duration": 0.088342,
     "end_time": "2023-04-17T00:26:00.634637",
     "exception": false,
     "start_time": "2023-04-17T00:26:00.546295",
     "status": "completed"
    },
    "tags": []
   },
   "outputs": [],
   "source": [
    "train_defog = glob.glob(path+'train/defog/**')\n",
    "train_tdcsfog = glob.glob(path+'train/tdcsfog/**')"
   ]
  },
  {
   "cell_type": "code",
   "execution_count": 4,
   "id": "69fb7822",
   "metadata": {
    "execution": {
     "iopub.execute_input": "2023-04-17T00:26:00.647234Z",
     "iopub.status.busy": "2023-04-17T00:26:00.646787Z",
     "iopub.status.idle": "2023-04-17T00:26:00.657726Z",
     "shell.execute_reply": "2023-04-17T00:26:00.656006Z"
    },
    "papermill": {
     "duration": 0.021689,
     "end_time": "2023-04-17T00:26:00.661581",
     "exception": false,
     "start_time": "2023-04-17T00:26:00.639892",
     "status": "completed"
    },
    "tags": []
   },
   "outputs": [],
   "source": [
    "test_defog = glob.glob(path+'test/defog/**')\n",
    "test_tdcsfog = glob.glob(path+'test/tdcsfog/**')"
   ]
  },
  {
   "cell_type": "code",
   "execution_count": 5,
   "id": "eb340e9a",
   "metadata": {
    "execution": {
     "iopub.execute_input": "2023-04-17T00:26:00.674639Z",
     "iopub.status.busy": "2023-04-17T00:26:00.674203Z",
     "iopub.status.idle": "2023-04-17T00:26:00.681619Z",
     "shell.execute_reply": "2023-04-17T00:26:00.680161Z"
    },
    "papermill": {
     "duration": 0.0173,
     "end_time": "2023-04-17T00:26:00.684327",
     "exception": false,
     "start_time": "2023-04-17T00:26:00.667027",
     "status": "completed"
    },
    "tags": []
   },
   "outputs": [],
   "source": [
    "def read_file(file_path):\n",
    "    df = pd.read_csv(file_path)\n",
    "    df['Id'] = file_path.split('/')[-1].split('.')[0]\n",
    "    df['Module'] = file_path.split('/')[-2]\n",
    "    return df"
   ]
  },
  {
   "cell_type": "code",
   "execution_count": 6,
   "id": "8180e8aa",
   "metadata": {
    "execution": {
     "iopub.execute_input": "2023-04-17T00:26:00.697080Z",
     "iopub.status.busy": "2023-04-17T00:26:00.696558Z",
     "iopub.status.idle": "2023-04-17T00:26:47.023267Z",
     "shell.execute_reply": "2023-04-17T00:26:47.021976Z"
    },
    "papermill": {
     "duration": 46.336665,
     "end_time": "2023-04-17T00:26:47.026292",
     "exception": false,
     "start_time": "2023-04-17T00:26:00.689627",
     "status": "completed"
    },
    "tags": []
   },
   "outputs": [
    {
     "data": {
      "application/vnd.jupyter.widget-view+json": {
       "model_id": "41b98c200b85479da20b63466a68bfa5",
       "version_major": 2,
       "version_minor": 0
      },
      "text/plain": [
       "  0%|          | 0/91 [00:00<?, ?it/s]"
      ]
     },
     "metadata": {},
     "output_type": "display_data"
    },
    {
     "data": {
      "application/vnd.jupyter.widget-view+json": {
       "model_id": "39c36358b2e14682b08b894535c126c1",
       "version_major": 2,
       "version_minor": 0
      },
      "text/plain": [
       "  0%|          | 0/833 [00:00<?, ?it/s]"
      ]
     },
     "metadata": {},
     "output_type": "display_data"
    }
   ],
   "source": [
    "train_defog = pd.concat([read_file(file_path) for file_path in tqdm(train_defog)])\n",
    "train_tdcsfog = pd.concat([read_file(file_path) for file_path in tqdm(train_tdcsfog)])"
   ]
  },
  {
   "cell_type": "code",
   "execution_count": 7,
   "id": "d0f0df45",
   "metadata": {
    "execution": {
     "iopub.execute_input": "2023-04-17T00:26:47.039493Z",
     "iopub.status.busy": "2023-04-17T00:26:47.039010Z",
     "iopub.status.idle": "2023-04-17T00:26:47.058962Z",
     "shell.execute_reply": "2023-04-17T00:26:47.057837Z"
    },
    "papermill": {
     "duration": 0.029687,
     "end_time": "2023-04-17T00:26:47.061738",
     "exception": false,
     "start_time": "2023-04-17T00:26:47.032051",
     "status": "completed"
    },
    "tags": []
   },
   "outputs": [],
   "source": [
    "subjects = pd.read_csv(path+'subjects.csv')\n",
    "tasks = pd.read_csv(path+'tasks.csv')"
   ]
  },
  {
   "cell_type": "code",
   "execution_count": 8,
   "id": "5f52dd1b",
   "metadata": {
    "execution": {
     "iopub.execute_input": "2023-04-17T00:26:47.075577Z",
     "iopub.status.busy": "2023-04-17T00:26:47.074376Z",
     "iopub.status.idle": "2023-04-17T00:26:47.105031Z",
     "shell.execute_reply": "2023-04-17T00:26:47.103371Z"
    },
    "papermill": {
     "duration": 0.040539,
     "end_time": "2023-04-17T00:26:47.107915",
     "exception": false,
     "start_time": "2023-04-17T00:26:47.067376",
     "status": "completed"
    },
    "tags": []
   },
   "outputs": [
    {
     "data": {
      "text/html": [
       "<div>\n",
       "<style scoped>\n",
       "    .dataframe tbody tr th:only-of-type {\n",
       "        vertical-align: middle;\n",
       "    }\n",
       "\n",
       "    .dataframe tbody tr th {\n",
       "        vertical-align: top;\n",
       "    }\n",
       "\n",
       "    .dataframe thead th {\n",
       "        text-align: right;\n",
       "    }\n",
       "</style>\n",
       "<table border=\"1\" class=\"dataframe\">\n",
       "  <thead>\n",
       "    <tr style=\"text-align: right;\">\n",
       "      <th></th>\n",
       "      <th>Subject</th>\n",
       "      <th>Age</th>\n",
       "      <th>Sex</th>\n",
       "      <th>YearsSinceDx</th>\n",
       "      <th>UPDRSIII_On</th>\n",
       "      <th>UPDRSIII_Off</th>\n",
       "      <th>NFOGQ</th>\n",
       "    </tr>\n",
       "  </thead>\n",
       "  <tbody>\n",
       "    <tr>\n",
       "      <th>0</th>\n",
       "      <td>04fcdb</td>\n",
       "      <td>63</td>\n",
       "      <td>M</td>\n",
       "      <td>3.0</td>\n",
       "      <td>30.0</td>\n",
       "      <td>NaN</td>\n",
       "      <td>0</td>\n",
       "    </tr>\n",
       "    <tr>\n",
       "      <th>1</th>\n",
       "      <td>05595e</td>\n",
       "      <td>56</td>\n",
       "      <td>M</td>\n",
       "      <td>8.0</td>\n",
       "      <td>28.0</td>\n",
       "      <td>NaN</td>\n",
       "      <td>0</td>\n",
       "    </tr>\n",
       "    <tr>\n",
       "      <th>2</th>\n",
       "      <td>0967b2</td>\n",
       "      <td>59</td>\n",
       "      <td>M</td>\n",
       "      <td>10.0</td>\n",
       "      <td>38.0</td>\n",
       "      <td>48.0</td>\n",
       "      <td>19</td>\n",
       "    </tr>\n",
       "    <tr>\n",
       "      <th>3</th>\n",
       "      <td>0967b2</td>\n",
       "      <td>59</td>\n",
       "      <td>M</td>\n",
       "      <td>10.0</td>\n",
       "      <td>37.0</td>\n",
       "      <td>44.0</td>\n",
       "      <td>13</td>\n",
       "    </tr>\n",
       "    <tr>\n",
       "      <th>4</th>\n",
       "      <td>097078</td>\n",
       "      <td>70</td>\n",
       "      <td>F</td>\n",
       "      <td>10.0</td>\n",
       "      <td>27.0</td>\n",
       "      <td>50.0</td>\n",
       "      <td>20</td>\n",
       "    </tr>\n",
       "  </tbody>\n",
       "</table>\n",
       "</div>"
      ],
      "text/plain": [
       "  Subject  Age Sex  YearsSinceDx  UPDRSIII_On  UPDRSIII_Off  NFOGQ\n",
       "0  04fcdb   63   M           3.0         30.0           NaN      0\n",
       "1  05595e   56   M           8.0         28.0           NaN      0\n",
       "2  0967b2   59   M          10.0         38.0          48.0     19\n",
       "3  0967b2   59   M          10.0         37.0          44.0     13\n",
       "4  097078   70   F          10.0         27.0          50.0     20"
      ]
     },
     "execution_count": 8,
     "metadata": {},
     "output_type": "execute_result"
    }
   ],
   "source": [
    "# not needed\n",
    "subjects.drop(['Visit'], axis=1, inplace=True)\n",
    "subjects.head()"
   ]
  },
  {
   "cell_type": "code",
   "execution_count": 9,
   "id": "f26cb4f9",
   "metadata": {
    "execution": {
     "iopub.execute_input": "2023-04-17T00:26:47.121499Z",
     "iopub.status.busy": "2023-04-17T00:26:47.121086Z",
     "iopub.status.idle": "2023-04-17T00:26:50.196933Z",
     "shell.execute_reply": "2023-04-17T00:26:50.195282Z"
    },
    "papermill": {
     "duration": 3.086572,
     "end_time": "2023-04-17T00:26:50.200170",
     "exception": false,
     "start_time": "2023-04-17T00:26:47.113598",
     "status": "completed"
    },
    "tags": []
   },
   "outputs": [],
   "source": [
    "train_df = pd.concat([train_defog, train_tdcsfog])"
   ]
  },
  {
   "cell_type": "code",
   "execution_count": 10,
   "id": "fedc6ff3",
   "metadata": {
    "execution": {
     "iopub.execute_input": "2023-04-17T00:26:50.213676Z",
     "iopub.status.busy": "2023-04-17T00:26:50.213250Z",
     "iopub.status.idle": "2023-04-17T00:26:50.230308Z",
     "shell.execute_reply": "2023-04-17T00:26:50.228920Z"
    },
    "papermill": {
     "duration": 0.026731,
     "end_time": "2023-04-17T00:26:50.232666",
     "exception": false,
     "start_time": "2023-04-17T00:26:50.205935",
     "status": "completed"
    },
    "tags": []
   },
   "outputs": [
    {
     "data": {
      "text/html": [
       "<div>\n",
       "<style scoped>\n",
       "    .dataframe tbody tr th:only-of-type {\n",
       "        vertical-align: middle;\n",
       "    }\n",
       "\n",
       "    .dataframe tbody tr th {\n",
       "        vertical-align: top;\n",
       "    }\n",
       "\n",
       "    .dataframe thead th {\n",
       "        text-align: right;\n",
       "    }\n",
       "</style>\n",
       "<table border=\"1\" class=\"dataframe\">\n",
       "  <thead>\n",
       "    <tr style=\"text-align: right;\">\n",
       "      <th></th>\n",
       "      <th>Time</th>\n",
       "      <th>AccV</th>\n",
       "      <th>AccML</th>\n",
       "      <th>AccAP</th>\n",
       "      <th>StartHesitation</th>\n",
       "      <th>Turn</th>\n",
       "      <th>Walking</th>\n",
       "      <th>Valid</th>\n",
       "      <th>Task</th>\n",
       "      <th>Id</th>\n",
       "      <th>Module</th>\n",
       "    </tr>\n",
       "  </thead>\n",
       "  <tbody>\n",
       "    <tr>\n",
       "      <th>0</th>\n",
       "      <td>0</td>\n",
       "      <td>-1.002697</td>\n",
       "      <td>0.022371</td>\n",
       "      <td>0.068304</td>\n",
       "      <td>0</td>\n",
       "      <td>0</td>\n",
       "      <td>0</td>\n",
       "      <td>False</td>\n",
       "      <td>False</td>\n",
       "      <td>be9d33541d</td>\n",
       "      <td>defog</td>\n",
       "    </tr>\n",
       "    <tr>\n",
       "      <th>1</th>\n",
       "      <td>1</td>\n",
       "      <td>-1.002641</td>\n",
       "      <td>0.019173</td>\n",
       "      <td>0.066162</td>\n",
       "      <td>0</td>\n",
       "      <td>0</td>\n",
       "      <td>0</td>\n",
       "      <td>False</td>\n",
       "      <td>False</td>\n",
       "      <td>be9d33541d</td>\n",
       "      <td>defog</td>\n",
       "    </tr>\n",
       "    <tr>\n",
       "      <th>2</th>\n",
       "      <td>2</td>\n",
       "      <td>-0.999820</td>\n",
       "      <td>0.019142</td>\n",
       "      <td>0.067536</td>\n",
       "      <td>0</td>\n",
       "      <td>0</td>\n",
       "      <td>0</td>\n",
       "      <td>False</td>\n",
       "      <td>False</td>\n",
       "      <td>be9d33541d</td>\n",
       "      <td>defog</td>\n",
       "    </tr>\n",
       "    <tr>\n",
       "      <th>3</th>\n",
       "      <td>3</td>\n",
       "      <td>-0.998023</td>\n",
       "      <td>0.018378</td>\n",
       "      <td>0.068409</td>\n",
       "      <td>0</td>\n",
       "      <td>0</td>\n",
       "      <td>0</td>\n",
       "      <td>False</td>\n",
       "      <td>False</td>\n",
       "      <td>be9d33541d</td>\n",
       "      <td>defog</td>\n",
       "    </tr>\n",
       "    <tr>\n",
       "      <th>4</th>\n",
       "      <td>4</td>\n",
       "      <td>-0.998359</td>\n",
       "      <td>0.016726</td>\n",
       "      <td>0.066448</td>\n",
       "      <td>0</td>\n",
       "      <td>0</td>\n",
       "      <td>0</td>\n",
       "      <td>False</td>\n",
       "      <td>False</td>\n",
       "      <td>be9d33541d</td>\n",
       "      <td>defog</td>\n",
       "    </tr>\n",
       "  </tbody>\n",
       "</table>\n",
       "</div>"
      ],
      "text/plain": [
       "   Time      AccV     AccML     AccAP  StartHesitation  Turn  Walking  Valid  \\\n",
       "0     0 -1.002697  0.022371  0.068304                0     0        0  False   \n",
       "1     1 -1.002641  0.019173  0.066162                0     0        0  False   \n",
       "2     2 -0.999820  0.019142  0.067536                0     0        0  False   \n",
       "3     3 -0.998023  0.018378  0.068409                0     0        0  False   \n",
       "4     4 -0.998359  0.016726  0.066448                0     0        0  False   \n",
       "\n",
       "    Task          Id Module  \n",
       "0  False  be9d33541d  defog  \n",
       "1  False  be9d33541d  defog  \n",
       "2  False  be9d33541d  defog  \n",
       "3  False  be9d33541d  defog  \n",
       "4  False  be9d33541d  defog  "
      ]
     },
     "execution_count": 10,
     "metadata": {},
     "output_type": "execute_result"
    }
   ],
   "source": [
    "train_df.head()"
   ]
  },
  {
   "cell_type": "code",
   "execution_count": 11,
   "id": "dd249b18",
   "metadata": {
    "execution": {
     "iopub.execute_input": "2023-04-17T00:26:50.247402Z",
     "iopub.status.busy": "2023-04-17T00:26:50.246271Z",
     "iopub.status.idle": "2023-04-17T00:27:02.099084Z",
     "shell.execute_reply": "2023-04-17T00:27:02.097587Z"
    },
    "papermill": {
     "duration": 11.863166,
     "end_time": "2023-04-17T00:27:02.102082",
     "exception": false,
     "start_time": "2023-04-17T00:26:50.238916",
     "status": "completed"
    },
    "tags": []
   },
   "outputs": [],
   "source": [
    "train_df.fillna(0,inplace=True)"
   ]
  },
  {
   "cell_type": "code",
   "execution_count": 12,
   "id": "44b88a6f",
   "metadata": {
    "execution": {
     "iopub.execute_input": "2023-04-17T00:27:02.117275Z",
     "iopub.status.busy": "2023-04-17T00:27:02.116828Z",
     "iopub.status.idle": "2023-04-17T00:27:02.122773Z",
     "shell.execute_reply": "2023-04-17T00:27:02.121327Z"
    },
    "papermill": {
     "duration": 0.017414,
     "end_time": "2023-04-17T00:27:02.125504",
     "exception": false,
     "start_time": "2023-04-17T00:27:02.108090",
     "status": "completed"
    },
    "tags": []
   },
   "outputs": [],
   "source": [
    "features=['Time', 'AccV', 'AccML', 'AccAP']\n",
    "Targets=['StartHesitation', 'Turn' , 'Walking']"
   ]
  },
  {
   "cell_type": "code",
   "execution_count": 13,
   "id": "d1a4312a",
   "metadata": {
    "execution": {
     "iopub.execute_input": "2023-04-17T00:27:02.139440Z",
     "iopub.status.busy": "2023-04-17T00:27:02.139015Z",
     "iopub.status.idle": "2023-04-17T00:27:10.454053Z",
     "shell.execute_reply": "2023-04-17T00:27:10.452576Z"
    },
    "papermill": {
     "duration": 8.326236,
     "end_time": "2023-04-17T00:27:10.457777",
     "exception": false,
     "start_time": "2023-04-17T00:27:02.131541",
     "status": "completed"
    },
    "tags": []
   },
   "outputs": [],
   "source": [
    "X_train, X_valid, y_train, y_valid = model_selection.train_test_split(train_df[features], train_df[Targets], test_size=.20, random_state=42)"
   ]
  },
  {
   "cell_type": "code",
   "execution_count": 14,
   "id": "07cdfd2d",
   "metadata": {
    "execution": {
     "iopub.execute_input": "2023-04-17T00:27:10.471658Z",
     "iopub.status.busy": "2023-04-17T00:27:10.471230Z",
     "iopub.status.idle": "2023-04-17T00:27:10.922737Z",
     "shell.execute_reply": "2023-04-17T00:27:10.921254Z"
    },
    "papermill": {
     "duration": 0.461791,
     "end_time": "2023-04-17T00:27:10.925515",
     "exception": false,
     "start_time": "2023-04-17T00:27:10.463724",
     "status": "completed"
    },
    "tags": []
   },
   "outputs": [
    {
     "data": {
      "text/plain": [
       "126"
      ]
     },
     "execution_count": 14,
     "metadata": {},
     "output_type": "execute_result"
    }
   ],
   "source": [
    "del train_df\n",
    "gc.collect()"
   ]
  },
  {
   "cell_type": "code",
   "execution_count": 15,
   "id": "d8a86168",
   "metadata": {
    "execution": {
     "iopub.execute_input": "2023-04-17T00:27:10.939812Z",
     "iopub.status.busy": "2023-04-17T00:27:10.939311Z",
     "iopub.status.idle": "2023-04-17T00:45:41.107908Z",
     "shell.execute_reply": "2023-04-17T00:45:41.106422Z"
    },
    "papermill": {
     "duration": 1110.184647,
     "end_time": "2023-04-17T00:45:41.116289",
     "exception": false,
     "start_time": "2023-04-17T00:27:10.931642",
     "status": "completed"
    },
    "tags": []
   },
   "outputs": [
    {
     "data": {
      "text/plain": [
       "RandomForestRegressor(max_depth=6, n_estimators=50, n_jobs=-1, random_state=42)"
      ]
     },
     "execution_count": 15,
     "metadata": {},
     "output_type": "execute_result"
    }
   ],
   "source": [
    "regression_model = ensemble.RandomForestRegressor(n_estimators=50, max_depth=6, n_jobs=-1, random_state=42)\n",
    "regression_model.fit(X_train, y_train)"
   ]
  },
  {
   "cell_type": "code",
   "execution_count": 16,
   "id": "40af3910",
   "metadata": {
    "execution": {
     "iopub.execute_input": "2023-04-17T00:45:41.130352Z",
     "iopub.status.busy": "2023-04-17T00:45:41.129919Z",
     "iopub.status.idle": "2023-04-17T00:45:41.416495Z",
     "shell.execute_reply": "2023-04-17T00:45:41.415071Z"
    },
    "papermill": {
     "duration": 0.297269,
     "end_time": "2023-04-17T00:45:41.419536",
     "exception": false,
     "start_time": "2023-04-17T00:45:41.122267",
     "status": "completed"
    },
    "tags": []
   },
   "outputs": [],
   "source": [
    "submission_sample = pd.read_csv(path+'sample_submission.csv')\n",
    "test = glob.glob(path+'test/**/**')"
   ]
  },
  {
   "cell_type": "code",
   "execution_count": 17,
   "id": "e514084e",
   "metadata": {
    "execution": {
     "iopub.execute_input": "2023-04-17T00:45:41.433890Z",
     "iopub.status.busy": "2023-04-17T00:45:41.433428Z",
     "iopub.status.idle": "2023-04-17T00:45:42.509202Z",
     "shell.execute_reply": "2023-04-17T00:45:42.507892Z"
    },
    "papermill": {
     "duration": 1.086313,
     "end_time": "2023-04-17T00:45:42.512210",
     "exception": false,
     "start_time": "2023-04-17T00:45:41.425897",
     "status": "completed"
    },
    "tags": []
   },
   "outputs": [],
   "source": [
    "submission_sample['t'] = 0\n",
    "submission = []\n",
    "\n",
    "for test_file in test:\n",
    "    df = pd.read_csv(test_file)\n",
    "    df['Id'] = test_file.split('/')[-1].split('.')[0]\n",
    "    df = df.fillna(0).reset_index(drop=True)\n",
    "    res = pd.DataFrame(np.round(regression_model.predict(df[features]),3), columns=['StartHesitation', 'Turn' , 'Walking'])\n",
    "    df = pd.concat([df,res], axis=1)\n",
    "    df['Id'] = df['Id'].astype(str) + '_' + df['Time'].astype(str)\n",
    "    submission.append(df[['Id','StartHesitation', 'Turn' , 'Walking']])"
   ]
  },
  {
   "cell_type": "code",
   "execution_count": 18,
   "id": "9003ef5e",
   "metadata": {
    "execution": {
     "iopub.execute_input": "2023-04-17T00:45:42.527380Z",
     "iopub.status.busy": "2023-04-17T00:45:42.526714Z",
     "iopub.status.idle": "2023-04-17T00:45:43.649201Z",
     "shell.execute_reply": "2023-04-17T00:45:43.647741Z"
    },
    "papermill": {
     "duration": 1.134263,
     "end_time": "2023-04-17T00:45:43.652497",
     "exception": false,
     "start_time": "2023-04-17T00:45:42.518234",
     "status": "completed"
    },
    "tags": []
   },
   "outputs": [],
   "source": [
    "submission = pd.concat(submission)\n",
    "submission = pd.merge(submission_sample[['Id','t']], submission, how='left', on='Id').fillna(0.0)\n",
    "submission[['Id','StartHesitation', 'Turn' , 'Walking']].to_csv('submission.csv', index=False)"
   ]
  }
 ],
 "metadata": {
  "kernelspec": {
   "display_name": "Python 3",
   "language": "python",
   "name": "python3"
  },
  "language_info": {
   "codemirror_mode": {
    "name": "ipython",
    "version": 3
   },
   "file_extension": ".py",
   "mimetype": "text/x-python",
   "name": "python",
   "nbconvert_exporter": "python",
   "pygments_lexer": "ipython3",
   "version": "3.7.12"
  },
  "papermill": {
   "default_parameters": {},
   "duration": 1199.252716,
   "end_time": "2023-04-17T00:45:45.189993",
   "environment_variables": {},
   "exception": null,
   "input_path": "__notebook__.ipynb",
   "output_path": "__notebook__.ipynb",
   "parameters": {},
   "start_time": "2023-04-17T00:25:45.937277",
   "version": "2.4.0"
  },
  "widgets": {
   "application/vnd.jupyter.widget-state+json": {
    "state": {
     "0ded37e1d9c149b6a0114c68d746facb": {
      "model_module": "@jupyter-widgets/controls",
      "model_module_version": "1.5.0",
      "model_name": "ProgressStyleModel",
      "state": {
       "_model_module": "@jupyter-widgets/controls",
       "_model_module_version": "1.5.0",
       "_model_name": "ProgressStyleModel",
       "_view_count": null,
       "_view_module": "@jupyter-widgets/base",
       "_view_module_version": "1.2.0",
       "_view_name": "StyleView",
       "bar_color": null,
       "description_width": ""
      }
     },
     "39c36358b2e14682b08b894535c126c1": {
      "model_module": "@jupyter-widgets/controls",
      "model_module_version": "1.5.0",
      "model_name": "HBoxModel",
      "state": {
       "_dom_classes": [],
       "_model_module": "@jupyter-widgets/controls",
       "_model_module_version": "1.5.0",
       "_model_name": "HBoxModel",
       "_view_count": null,
       "_view_module": "@jupyter-widgets/controls",
       "_view_module_version": "1.5.0",
       "_view_name": "HBoxView",
       "box_style": "",
       "children": [
        "IPY_MODEL_9c866138b5814551ae814c7bfb0cf742",
        "IPY_MODEL_51e008f8d71841a7b955bbf5ac223ec1",
        "IPY_MODEL_9b1886076d40462d9c7a696af45cf1b3"
       ],
       "layout": "IPY_MODEL_54ff34d2beb54ce6971420c11de175ab"
      }
     },
     "3f04a61339734366b6a2efbb1373af6e": {
      "model_module": "@jupyter-widgets/base",
      "model_module_version": "1.2.0",
      "model_name": "LayoutModel",
      "state": {
       "_model_module": "@jupyter-widgets/base",
       "_model_module_version": "1.2.0",
       "_model_name": "LayoutModel",
       "_view_count": null,
       "_view_module": "@jupyter-widgets/base",
       "_view_module_version": "1.2.0",
       "_view_name": "LayoutView",
       "align_content": null,
       "align_items": null,
       "align_self": null,
       "border": null,
       "bottom": null,
       "display": null,
       "flex": null,
       "flex_flow": null,
       "grid_area": null,
       "grid_auto_columns": null,
       "grid_auto_flow": null,
       "grid_auto_rows": null,
       "grid_column": null,
       "grid_gap": null,
       "grid_row": null,
       "grid_template_areas": null,
       "grid_template_columns": null,
       "grid_template_rows": null,
       "height": null,
       "justify_content": null,
       "justify_items": null,
       "left": null,
       "margin": null,
       "max_height": null,
       "max_width": null,
       "min_height": null,
       "min_width": null,
       "object_fit": null,
       "object_position": null,
       "order": null,
       "overflow": null,
       "overflow_x": null,
       "overflow_y": null,
       "padding": null,
       "right": null,
       "top": null,
       "visibility": null,
       "width": null
      }
     },
     "41b98c200b85479da20b63466a68bfa5": {
      "model_module": "@jupyter-widgets/controls",
      "model_module_version": "1.5.0",
      "model_name": "HBoxModel",
      "state": {
       "_dom_classes": [],
       "_model_module": "@jupyter-widgets/controls",
       "_model_module_version": "1.5.0",
       "_model_name": "HBoxModel",
       "_view_count": null,
       "_view_module": "@jupyter-widgets/controls",
       "_view_module_version": "1.5.0",
       "_view_name": "HBoxView",
       "box_style": "",
       "children": [
        "IPY_MODEL_4efaabca55e24843ad9c41f8ca0104c3",
        "IPY_MODEL_c32ce6ab0edb48199f0e761a12605974",
        "IPY_MODEL_ac6ddd22b3e14cbf8aa0f3d5c78d54c3"
       ],
       "layout": "IPY_MODEL_dbb2f571661645329a2caacf3b602476"
      }
     },
     "43159ada8e0140b9aa5e9c7f3d20a1c5": {
      "model_module": "@jupyter-widgets/controls",
      "model_module_version": "1.5.0",
      "model_name": "DescriptionStyleModel",
      "state": {
       "_model_module": "@jupyter-widgets/controls",
       "_model_module_version": "1.5.0",
       "_model_name": "DescriptionStyleModel",
       "_view_count": null,
       "_view_module": "@jupyter-widgets/base",
       "_view_module_version": "1.2.0",
       "_view_name": "StyleView",
       "description_width": ""
      }
     },
     "4b7a59e1cf1b4f9491389477c58ac039": {
      "model_module": "@jupyter-widgets/base",
      "model_module_version": "1.2.0",
      "model_name": "LayoutModel",
      "state": {
       "_model_module": "@jupyter-widgets/base",
       "_model_module_version": "1.2.0",
       "_model_name": "LayoutModel",
       "_view_count": null,
       "_view_module": "@jupyter-widgets/base",
       "_view_module_version": "1.2.0",
       "_view_name": "LayoutView",
       "align_content": null,
       "align_items": null,
       "align_self": null,
       "border": null,
       "bottom": null,
       "display": null,
       "flex": null,
       "flex_flow": null,
       "grid_area": null,
       "grid_auto_columns": null,
       "grid_auto_flow": null,
       "grid_auto_rows": null,
       "grid_column": null,
       "grid_gap": null,
       "grid_row": null,
       "grid_template_areas": null,
       "grid_template_columns": null,
       "grid_template_rows": null,
       "height": null,
       "justify_content": null,
       "justify_items": null,
       "left": null,
       "margin": null,
       "max_height": null,
       "max_width": null,
       "min_height": null,
       "min_width": null,
       "object_fit": null,
       "object_position": null,
       "order": null,
       "overflow": null,
       "overflow_x": null,
       "overflow_y": null,
       "padding": null,
       "right": null,
       "top": null,
       "visibility": null,
       "width": null
      }
     },
     "4efaabca55e24843ad9c41f8ca0104c3": {
      "model_module": "@jupyter-widgets/controls",
      "model_module_version": "1.5.0",
      "model_name": "HTMLModel",
      "state": {
       "_dom_classes": [],
       "_model_module": "@jupyter-widgets/controls",
       "_model_module_version": "1.5.0",
       "_model_name": "HTMLModel",
       "_view_count": null,
       "_view_module": "@jupyter-widgets/controls",
       "_view_module_version": "1.5.0",
       "_view_name": "HTMLView",
       "description": "",
       "description_tooltip": null,
       "layout": "IPY_MODEL_6fbd8ce965184b67ac0598d30795b0c9",
       "placeholder": "​",
       "style": "IPY_MODEL_43159ada8e0140b9aa5e9c7f3d20a1c5",
       "value": "100%"
      }
     },
     "51e008f8d71841a7b955bbf5ac223ec1": {
      "model_module": "@jupyter-widgets/controls",
      "model_module_version": "1.5.0",
      "model_name": "FloatProgressModel",
      "state": {
       "_dom_classes": [],
       "_model_module": "@jupyter-widgets/controls",
       "_model_module_version": "1.5.0",
       "_model_name": "FloatProgressModel",
       "_view_count": null,
       "_view_module": "@jupyter-widgets/controls",
       "_view_module_version": "1.5.0",
       "_view_name": "ProgressView",
       "bar_style": "success",
       "description": "",
       "description_tooltip": null,
       "layout": "IPY_MODEL_a4a740a98b804cabab15773cc7b09c42",
       "max": 833.0,
       "min": 0.0,
       "orientation": "horizontal",
       "style": "IPY_MODEL_0ded37e1d9c149b6a0114c68d746facb",
       "value": 833.0
      }
     },
     "54ff34d2beb54ce6971420c11de175ab": {
      "model_module": "@jupyter-widgets/base",
      "model_module_version": "1.2.0",
      "model_name": "LayoutModel",
      "state": {
       "_model_module": "@jupyter-widgets/base",
       "_model_module_version": "1.2.0",
       "_model_name": "LayoutModel",
       "_view_count": null,
       "_view_module": "@jupyter-widgets/base",
       "_view_module_version": "1.2.0",
       "_view_name": "LayoutView",
       "align_content": null,
       "align_items": null,
       "align_self": null,
       "border": null,
       "bottom": null,
       "display": null,
       "flex": null,
       "flex_flow": null,
       "grid_area": null,
       "grid_auto_columns": null,
       "grid_auto_flow": null,
       "grid_auto_rows": null,
       "grid_column": null,
       "grid_gap": null,
       "grid_row": null,
       "grid_template_areas": null,
       "grid_template_columns": null,
       "grid_template_rows": null,
       "height": null,
       "justify_content": null,
       "justify_items": null,
       "left": null,
       "margin": null,
       "max_height": null,
       "max_width": null,
       "min_height": null,
       "min_width": null,
       "object_fit": null,
       "object_position": null,
       "order": null,
       "overflow": null,
       "overflow_x": null,
       "overflow_y": null,
       "padding": null,
       "right": null,
       "top": null,
       "visibility": null,
       "width": null
      }
     },
     "6a64e84f8dbb4e68b02bcb946a65e9e7": {
      "model_module": "@jupyter-widgets/base",
      "model_module_version": "1.2.0",
      "model_name": "LayoutModel",
      "state": {
       "_model_module": "@jupyter-widgets/base",
       "_model_module_version": "1.2.0",
       "_model_name": "LayoutModel",
       "_view_count": null,
       "_view_module": "@jupyter-widgets/base",
       "_view_module_version": "1.2.0",
       "_view_name": "LayoutView",
       "align_content": null,
       "align_items": null,
       "align_self": null,
       "border": null,
       "bottom": null,
       "display": null,
       "flex": null,
       "flex_flow": null,
       "grid_area": null,
       "grid_auto_columns": null,
       "grid_auto_flow": null,
       "grid_auto_rows": null,
       "grid_column": null,
       "grid_gap": null,
       "grid_row": null,
       "grid_template_areas": null,
       "grid_template_columns": null,
       "grid_template_rows": null,
       "height": null,
       "justify_content": null,
       "justify_items": null,
       "left": null,
       "margin": null,
       "max_height": null,
       "max_width": null,
       "min_height": null,
       "min_width": null,
       "object_fit": null,
       "object_position": null,
       "order": null,
       "overflow": null,
       "overflow_x": null,
       "overflow_y": null,
       "padding": null,
       "right": null,
       "top": null,
       "visibility": null,
       "width": null
      }
     },
     "6fbd8ce965184b67ac0598d30795b0c9": {
      "model_module": "@jupyter-widgets/base",
      "model_module_version": "1.2.0",
      "model_name": "LayoutModel",
      "state": {
       "_model_module": "@jupyter-widgets/base",
       "_model_module_version": "1.2.0",
       "_model_name": "LayoutModel",
       "_view_count": null,
       "_view_module": "@jupyter-widgets/base",
       "_view_module_version": "1.2.0",
       "_view_name": "LayoutView",
       "align_content": null,
       "align_items": null,
       "align_self": null,
       "border": null,
       "bottom": null,
       "display": null,
       "flex": null,
       "flex_flow": null,
       "grid_area": null,
       "grid_auto_columns": null,
       "grid_auto_flow": null,
       "grid_auto_rows": null,
       "grid_column": null,
       "grid_gap": null,
       "grid_row": null,
       "grid_template_areas": null,
       "grid_template_columns": null,
       "grid_template_rows": null,
       "height": null,
       "justify_content": null,
       "justify_items": null,
       "left": null,
       "margin": null,
       "max_height": null,
       "max_width": null,
       "min_height": null,
       "min_width": null,
       "object_fit": null,
       "object_position": null,
       "order": null,
       "overflow": null,
       "overflow_x": null,
       "overflow_y": null,
       "padding": null,
       "right": null,
       "top": null,
       "visibility": null,
       "width": null
      }
     },
     "7f603f78ec854b5bbe2ec4e906c0dfc8": {
      "model_module": "@jupyter-widgets/controls",
      "model_module_version": "1.5.0",
      "model_name": "DescriptionStyleModel",
      "state": {
       "_model_module": "@jupyter-widgets/controls",
       "_model_module_version": "1.5.0",
       "_model_name": "DescriptionStyleModel",
       "_view_count": null,
       "_view_module": "@jupyter-widgets/base",
       "_view_module_version": "1.2.0",
       "_view_name": "StyleView",
       "description_width": ""
      }
     },
     "8150528ee8434723888c7ae9adcca81b": {
      "model_module": "@jupyter-widgets/base",
      "model_module_version": "1.2.0",
      "model_name": "LayoutModel",
      "state": {
       "_model_module": "@jupyter-widgets/base",
       "_model_module_version": "1.2.0",
       "_model_name": "LayoutModel",
       "_view_count": null,
       "_view_module": "@jupyter-widgets/base",
       "_view_module_version": "1.2.0",
       "_view_name": "LayoutView",
       "align_content": null,
       "align_items": null,
       "align_self": null,
       "border": null,
       "bottom": null,
       "display": null,
       "flex": null,
       "flex_flow": null,
       "grid_area": null,
       "grid_auto_columns": null,
       "grid_auto_flow": null,
       "grid_auto_rows": null,
       "grid_column": null,
       "grid_gap": null,
       "grid_row": null,
       "grid_template_areas": null,
       "grid_template_columns": null,
       "grid_template_rows": null,
       "height": null,
       "justify_content": null,
       "justify_items": null,
       "left": null,
       "margin": null,
       "max_height": null,
       "max_width": null,
       "min_height": null,
       "min_width": null,
       "object_fit": null,
       "object_position": null,
       "order": null,
       "overflow": null,
       "overflow_x": null,
       "overflow_y": null,
       "padding": null,
       "right": null,
       "top": null,
       "visibility": null,
       "width": null
      }
     },
     "95d21250fa3247c09561d0cb26e816fd": {
      "model_module": "@jupyter-widgets/controls",
      "model_module_version": "1.5.0",
      "model_name": "ProgressStyleModel",
      "state": {
       "_model_module": "@jupyter-widgets/controls",
       "_model_module_version": "1.5.0",
       "_model_name": "ProgressStyleModel",
       "_view_count": null,
       "_view_module": "@jupyter-widgets/base",
       "_view_module_version": "1.2.0",
       "_view_name": "StyleView",
       "bar_color": null,
       "description_width": ""
      }
     },
     "9b1886076d40462d9c7a696af45cf1b3": {
      "model_module": "@jupyter-widgets/controls",
      "model_module_version": "1.5.0",
      "model_name": "HTMLModel",
      "state": {
       "_dom_classes": [],
       "_model_module": "@jupyter-widgets/controls",
       "_model_module_version": "1.5.0",
       "_model_name": "HTMLModel",
       "_view_count": null,
       "_view_module": "@jupyter-widgets/controls",
       "_view_module_version": "1.5.0",
       "_view_name": "HTMLView",
       "description": "",
       "description_tooltip": null,
       "layout": "IPY_MODEL_6a64e84f8dbb4e68b02bcb946a65e9e7",
       "placeholder": "​",
       "style": "IPY_MODEL_eba55f7dc6c245909819a86d43f3b5c6",
       "value": " 833/833 [00:16&lt;00:00, 53.01it/s]"
      }
     },
     "9c866138b5814551ae814c7bfb0cf742": {
      "model_module": "@jupyter-widgets/controls",
      "model_module_version": "1.5.0",
      "model_name": "HTMLModel",
      "state": {
       "_dom_classes": [],
       "_model_module": "@jupyter-widgets/controls",
       "_model_module_version": "1.5.0",
       "_model_name": "HTMLModel",
       "_view_count": null,
       "_view_module": "@jupyter-widgets/controls",
       "_view_module_version": "1.5.0",
       "_view_name": "HTMLView",
       "description": "",
       "description_tooltip": null,
       "layout": "IPY_MODEL_8150528ee8434723888c7ae9adcca81b",
       "placeholder": "​",
       "style": "IPY_MODEL_7f603f78ec854b5bbe2ec4e906c0dfc8",
       "value": "100%"
      }
     },
     "a4a740a98b804cabab15773cc7b09c42": {
      "model_module": "@jupyter-widgets/base",
      "model_module_version": "1.2.0",
      "model_name": "LayoutModel",
      "state": {
       "_model_module": "@jupyter-widgets/base",
       "_model_module_version": "1.2.0",
       "_model_name": "LayoutModel",
       "_view_count": null,
       "_view_module": "@jupyter-widgets/base",
       "_view_module_version": "1.2.0",
       "_view_name": "LayoutView",
       "align_content": null,
       "align_items": null,
       "align_self": null,
       "border": null,
       "bottom": null,
       "display": null,
       "flex": null,
       "flex_flow": null,
       "grid_area": null,
       "grid_auto_columns": null,
       "grid_auto_flow": null,
       "grid_auto_rows": null,
       "grid_column": null,
       "grid_gap": null,
       "grid_row": null,
       "grid_template_areas": null,
       "grid_template_columns": null,
       "grid_template_rows": null,
       "height": null,
       "justify_content": null,
       "justify_items": null,
       "left": null,
       "margin": null,
       "max_height": null,
       "max_width": null,
       "min_height": null,
       "min_width": null,
       "object_fit": null,
       "object_position": null,
       "order": null,
       "overflow": null,
       "overflow_x": null,
       "overflow_y": null,
       "padding": null,
       "right": null,
       "top": null,
       "visibility": null,
       "width": null
      }
     },
     "ac6ddd22b3e14cbf8aa0f3d5c78d54c3": {
      "model_module": "@jupyter-widgets/controls",
      "model_module_version": "1.5.0",
      "model_name": "HTMLModel",
      "state": {
       "_dom_classes": [],
       "_model_module": "@jupyter-widgets/controls",
       "_model_module_version": "1.5.0",
       "_model_name": "HTMLModel",
       "_view_count": null,
       "_view_module": "@jupyter-widgets/controls",
       "_view_module_version": "1.5.0",
       "_view_name": "HTMLView",
       "description": "",
       "description_tooltip": null,
       "layout": "IPY_MODEL_4b7a59e1cf1b4f9491389477c58ac039",
       "placeholder": "​",
       "style": "IPY_MODEL_f9ff5005a7da4ffc9f5e9c74468f558c",
       "value": " 91/91 [00:26&lt;00:00,  4.70it/s]"
      }
     },
     "c32ce6ab0edb48199f0e761a12605974": {
      "model_module": "@jupyter-widgets/controls",
      "model_module_version": "1.5.0",
      "model_name": "FloatProgressModel",
      "state": {
       "_dom_classes": [],
       "_model_module": "@jupyter-widgets/controls",
       "_model_module_version": "1.5.0",
       "_model_name": "FloatProgressModel",
       "_view_count": null,
       "_view_module": "@jupyter-widgets/controls",
       "_view_module_version": "1.5.0",
       "_view_name": "ProgressView",
       "bar_style": "success",
       "description": "",
       "description_tooltip": null,
       "layout": "IPY_MODEL_3f04a61339734366b6a2efbb1373af6e",
       "max": 91.0,
       "min": 0.0,
       "orientation": "horizontal",
       "style": "IPY_MODEL_95d21250fa3247c09561d0cb26e816fd",
       "value": 91.0
      }
     },
     "dbb2f571661645329a2caacf3b602476": {
      "model_module": "@jupyter-widgets/base",
      "model_module_version": "1.2.0",
      "model_name": "LayoutModel",
      "state": {
       "_model_module": "@jupyter-widgets/base",
       "_model_module_version": "1.2.0",
       "_model_name": "LayoutModel",
       "_view_count": null,
       "_view_module": "@jupyter-widgets/base",
       "_view_module_version": "1.2.0",
       "_view_name": "LayoutView",
       "align_content": null,
       "align_items": null,
       "align_self": null,
       "border": null,
       "bottom": null,
       "display": null,
       "flex": null,
       "flex_flow": null,
       "grid_area": null,
       "grid_auto_columns": null,
       "grid_auto_flow": null,
       "grid_auto_rows": null,
       "grid_column": null,
       "grid_gap": null,
       "grid_row": null,
       "grid_template_areas": null,
       "grid_template_columns": null,
       "grid_template_rows": null,
       "height": null,
       "justify_content": null,
       "justify_items": null,
       "left": null,
       "margin": null,
       "max_height": null,
       "max_width": null,
       "min_height": null,
       "min_width": null,
       "object_fit": null,
       "object_position": null,
       "order": null,
       "overflow": null,
       "overflow_x": null,
       "overflow_y": null,
       "padding": null,
       "right": null,
       "top": null,
       "visibility": null,
       "width": null
      }
     },
     "eba55f7dc6c245909819a86d43f3b5c6": {
      "model_module": "@jupyter-widgets/controls",
      "model_module_version": "1.5.0",
      "model_name": "DescriptionStyleModel",
      "state": {
       "_model_module": "@jupyter-widgets/controls",
       "_model_module_version": "1.5.0",
       "_model_name": "DescriptionStyleModel",
       "_view_count": null,
       "_view_module": "@jupyter-widgets/base",
       "_view_module_version": "1.2.0",
       "_view_name": "StyleView",
       "description_width": ""
      }
     },
     "f9ff5005a7da4ffc9f5e9c74468f558c": {
      "model_module": "@jupyter-widgets/controls",
      "model_module_version": "1.5.0",
      "model_name": "DescriptionStyleModel",
      "state": {
       "_model_module": "@jupyter-widgets/controls",
       "_model_module_version": "1.5.0",
       "_model_name": "DescriptionStyleModel",
       "_view_count": null,
       "_view_module": "@jupyter-widgets/base",
       "_view_module_version": "1.2.0",
       "_view_name": "StyleView",
       "description_width": ""
      }
     }
    },
    "version_major": 2,
    "version_minor": 0
   }
  }
 },
 "nbformat": 4,
 "nbformat_minor": 5
}
