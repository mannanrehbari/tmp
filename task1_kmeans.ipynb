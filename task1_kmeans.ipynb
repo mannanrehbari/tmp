{
 "cells": [
  {
   "cell_type": "markdown",
   "id": "d86df88b",
   "metadata": {},
   "source": [
    "## Task 1 Algorithmic Analysis K-Means Clustering with Real World Dataset\n",
    "\n",
    "First, download a simulated dataset: kmeans_data.zip from Modules->Datasets. Then,\n",
    "implement the K-means algorithm from scratch. K-means algorithm computes the distance of a\n",
    "given data point pair. Replace the distance computation function with Euclidean distance, 1-\n",
    "Cosine similarity, and 1 – the Generalized Jarcard similarity (refer to:\n",
    "https://www.itl.nist.gov/div898/software/dataplot/refman2/auxillar/jaccard.htm)\n",
    "\n",
    "\n",
    "Q1: Run K-means clustering with Euclidean, Cosine and Jarcard similarity. Specify K= the number of categorical values of y (the number of classifications). Compare the SSEs of Euclidean-K-means, Cosine-K-means, Jarcard-K-means. Which method is better? (10 points)\n",
    "\n",
    "Q2: Compare the accuracies of Euclidean-K-means Cosine-K-means, Jarcard-K-means. First, label each cluster using the majority vote label of the data points in that cluster. Later, compute the predictive accuracy of Euclidean-K-means, Cosine-K-means, Jarcard-K-means. Which metric is better? (10 points)\n",
    "\n",
    "Q3: Set up the same stop criteria: “when there is no change in centroid position OR when the SSE value increases in the next iteration OR when the maximum preset value (e.g., 500, you can set the preset value by yourself) of iteration is complete”, for Euclidean-K-means, Cosine-K- means, Jarcard-K-means. Which method requires more iterations and times to converge? (10 points)\n",
    "\n",
    "Q4: Compare the SSEs of Euclidean-K-means Cosine-K-means, Jarcard-K-means with respect to the following three terminating conditions: (10 points)\n",
    "• when there is no change in centroid position ",
    "\n",
    "• when the SSE value increases in the next iteration ",
    "\n",
    "• when the maximum preset value (e.g., 100) of iteration is complete\n",
    "\n",
    "Q5: What are your summary observations or takeaways based on your algorithmic analysis? (5 points)\n"
   ]
  },
  {
   "cell_type": "code",
   "execution_count": 1,
   "id": "ae9313ae",
   "metadata": {},
   "outputs": [],
   "source": [
    "# Import required packages\n",
    "import pandas as pd\n",
    "import numpy as np\n",
    "import random\n",
    "from sklearn.preprocessing import *\n",
    "from sklearn.cluster import KMeans # to check "
   ]
  },
  {
   "cell_type": "code",
   "execution_count": 2,
   "id": "5a228f98",
   "metadata": {},
   "outputs": [],
   "source": [
    "path = 'kmeans_data/'"
   ]
  },
  {
   "cell_type": "code",
   "execution_count": 3,
   "id": "edc7391d",
   "metadata": {},
   "outputs": [],
   "source": [
    "# Helper functions to calculate distances\n",
    "def eucl_dist(x1, x2):\n",
    "    return np.sqrt(np.sum((x1-x2)**2))\n",
    "\n",
    "def cos_sim(x1, x2):\n",
    "    dot_prod = np.dot(x1, x2)\n",
    "    x1_mag = np.sqrt(np.dot(x1, x1))\n",
    "    x2_mag = np.sqrt(np.dot(x2, x2))\n",
    "    mag_prod = x1_mag * x2_mag\n",
    "    return dot_prod / mag_prod\n",
    "\n",
    "def cos_sim_dist(x1, x2):\n",
    "    return 1 - cos_sim(x1, x2)\n",
    "\n",
    "def gen_jacc_dist(x1, x2):\n",
    "    intersection = np.minimum(x1, x2).sum()\n",
    "    union = np.maximum(x1, x2).sum()\n",
    "    return 1 - (intersection/union)\n",
    "\n",
    "def init_centroids(X, num_clusters):\n",
    "    index = random.sample(range(X.shape[0]), num_clusters )\n",
    "    return X[index, :]\n",
    "\n",
    "def find_distances(X, centroids, dist_measure):\n",
    "    dists = np.zeros((X.shape[0], centroids.shape[0]))\n",
    "    for i, centroid in enumerate(centroids):\n",
    "        for j, point in enumerate(X):\n",
    "            dists[j, i] = dist_measure(point, centroid)\n",
    "    return dists\n",
    "\n",
    "def assign_cluster(dists):\n",
    "    return np.argmin(dists, axis=1)\n",
    "\n",
    "\n",
    "def update_centroids(X, clusters, num_clusters):\n",
    "    centroids = np.zeros((num_clusters, X.shape[1]))\n",
    "    for i in range(num_clusters):\n",
    "        X_i = X[clusters == i] # filters points that belong to cluster 'i' from X\n",
    "        centroids[i, :] = np.mean(X_i, axis=0)\n",
    "    return centroids\n",
    "\n",
    "def find_sse(X, clusters, centroids):\n",
    "    sse = 0\n",
    "    for i in range(centroids.shape[0]):\n",
    "        cl_data = X[clusters == i]\n",
    "        centroid = centroids[i]\n",
    "        sse += np.sum((cl_data - centroid)**2)\n",
    "    return sse"
   ]
  },
  {
   "cell_type": "code",
   "execution_count": 4,
   "id": "c24758bf",
   "metadata": {},
   "outputs": [],
   "source": [
    "# simple K-means implementation\n",
    "def kmeans(X, num_clusters, max_iters, dist_measure):\n",
    "    centroids = init_centroids(X, num_clusters)\n",
    "    for _ in range(max_iters):\n",
    "        dists = find_distances(X, centroids, dist_measure)\n",
    "        clusters = assign_cluster(dists)\n",
    "        centroids = update_centroids(X, clusters, num_clusters)\n",
    "    return centroids, clusters"
   ]
  },
  {
   "cell_type": "code",
   "execution_count": 5,
   "id": "69eb490a",
   "metadata": {},
   "outputs": [],
   "source": [
    "X_df = pd.read_csv(path+\"data.csv\")\n",
    "y_df = pd.read_csv(path+\"label.csv\")"
   ]
  },
  {
   "cell_type": "code",
   "execution_count": 6,
   "id": "cde4009b",
   "metadata": {},
   "outputs": [
    {
     "name": "stdout",
     "output_type": "stream",
     "text": [
      "(9999, 784)\n",
      "(9999, 1)\n"
     ]
    }
   ],
   "source": [
    "# normalize and convert to numpy array\n",
    "X_norm = pd.DataFrame(MinMaxScaler().fit_transform(X_df), columns = X_df.columns)\n",
    "\n",
    "X = X_norm.to_numpy()\n",
    "y = y_df.to_numpy()\n",
    "\n",
    "print(X.shape)\n",
    "print(y.shape)"
   ]
  },
  {
   "cell_type": "code",
   "execution_count": 7,
   "id": "c9e28de2",
   "metadata": {},
   "outputs": [],
   "source": [
    "K = len(np.unique(y))\n",
    "max_iters = 100"
   ]
  },
  {
   "cell_type": "code",
   "execution_count": 8,
   "id": "0a5c1c4f",
   "metadata": {},
   "outputs": [],
   "source": [
    "euc_centroids, euc_clusters = kmeans(X, K, max_iters, eucl_dist)\n",
    "cos_centroids, cos_clusters = kmeans(X, K, max_iters, cos_sim_dist)\n",
    "jacc_centroids, jacc_clusters = kmeans(X, K, max_iters, gen_jacc_dist)"
   ]
  },
  {
   "cell_type": "markdown",
   "id": "d3ccef69",
   "metadata": {},
   "source": [
    "#### Q1 - Comparing metrics for sum of squared error"
   ]
  },
  {
   "cell_type": "code",
   "execution_count": 9,
   "id": "5ca26217",
   "metadata": {},
   "outputs": [],
   "source": [
    "euc_sse = find_sse(X, euc_clusters, euc_centroids)\n",
    "cos_sse = find_sse(X, cos_clusters, cos_centroids)\n",
    "jacc_sse = find_sse(X, jacc_clusters, jacc_centroids)"
   ]
  },
  {
   "cell_type": "code",
   "execution_count": 10,
   "id": "d4ff4067",
   "metadata": {},
   "outputs": [
    {
     "name": "stdout",
     "output_type": "stream",
     "text": [
      "Euclidean SSE: 389498.16627122037\n",
      "Cosine SSE: 390966.4600923645\n",
      "Jaccard SSE: 390913.889311961\n"
     ]
    }
   ],
   "source": [
    "print(\"Euclidean SSE: {euc_sse}\".format(euc_sse=euc_sse))\n",
    "print(\"Cosine SSE: {cos_sse}\".format(cos_sse=cos_sse))\n",
    "print(\"Jaccard SSE: {jacc_sse}\".format(jacc_sse=jacc_sse))"
   ]
  },
  {
   "cell_type": "code",
   "execution_count": 11,
   "id": "3386d57c",
   "metadata": {},
   "outputs": [
    {
     "name": "stdout",
     "output_type": "stream",
     "text": [
      "Custom impl: 389498.16627122037, sklearn impl: 389525.15401128225\n"
     ]
    }
   ],
   "source": [
    "kmeans = KMeans(n_clusters=K, init='k-means++', max_iter=max_iters, random_state=42)\n",
    "kmeans.fit(X)\n",
    "\n",
    "sklearn_impl_sse = kmeans.inertia_\n",
    "print(\"Custom impl: {e_sse}, sklearn impl: {sk_sse}\".format(e_sse=euc_sse, sk_sse=sklearn_impl_sse))"
   ]
  },
  {
   "cell_type": "code",
   "execution_count": 12,
   "id": "a79f0b76",
   "metadata": {},
   "outputs": [],
   "source": [
    "def labels_majority_vote(X, y, clusters, centroids):\n",
    "    cluster_labels = np.zeros(centroids.shape[0], dtype=int)\n",
    "    for i in range(centroids.shape[0]):\n",
    "        labels_true = y[clusters==i]\n",
    "        labels_unique, label_counts = np.unique(labels_true, return_counts=True)\n",
    "        counts_max = np.argmax(label_counts)\n",
    "        cluster_labels[i] = labels_unique[counts_max]\n",
    "    return cluster_labels\n",
    "\n",
    "def compute_accuracy(X, y, clusters, centroids, cluster_labels):\n",
    "    accurate = 0\n",
    "    total = len(y)\n",
    "    for i in range(centroids.shape[0]):\n",
    "        cl_i = cluster_labels[i]\n",
    "        y_fl = y[clusters==i] # filters values that belong to cluster 'i' from 'y'\n",
    "        accurate = accurate + np.sum(y_fl == cl_i)\n",
    "    return accurate/total"
   ]
  },
  {
   "cell_type": "code",
   "execution_count": 13,
   "id": "4f6af6c7",
   "metadata": {},
   "outputs": [],
   "source": [
    "# compute labels\n",
    "euc_cl_labels = labels_majority_vote(X, y, euc_clusters, euc_centroids)\n",
    "cos_cl_labels = labels_majority_vote(X, y, cos_clusters, cos_centroids)\n",
    "jacc_cl_labels = labels_majority_vote(X, y, jacc_clusters, jacc_centroids)"
   ]
  },
  {
   "cell_type": "code",
   "execution_count": 14,
   "id": "c60e0b04",
   "metadata": {},
   "outputs": [],
   "source": [
    "# compute accuracy\n",
    "euc_accuracy = compute_accuracy(X, y, euc_clusters, euc_centroids, euc_cl_labels)\n",
    "cos_accuracy = compute_accuracy(X, y, cos_clusters, cos_centroids, cos_cl_labels)\n",
    "jacc_accuracy = compute_accuracy(X, y, jacc_clusters, jacc_centroids, jacc_cl_labels)"
   ]
  },
  {
   "cell_type": "code",
   "execution_count": 15,
   "id": "165ba395",
   "metadata": {},
   "outputs": [
    {
     "name": "stdout",
     "output_type": "stream",
     "text": [
      "Euclidean Accuracy: 0.603060306030603\n",
      "Cosine Accuracy: 0.6134613461346134\n",
      "Jaccard Accuracy: 0.6051605160516051\n"
     ]
    }
   ],
   "source": [
    "print(\"Euclidean Accuracy: {euc_accuracy}\".format(euc_accuracy=euc_accuracy))\n",
    "print(\"Cosine Accuracy: {cos_accuracy}\".format(cos_accuracy=cos_accuracy))\n",
    "print(\"Jaccard Accuracy: {jacc_accuracy}\".format(jacc_accuracy=jacc_accuracy))"
   ]
  },
  {
   "cell_type": "code",
   "execution_count": 16,
   "id": "28868a01",
   "metadata": {},
   "outputs": [],
   "source": [
    "# change of stop criteria\n",
    "def kmeans_mod_1(X, num_clusters, max_iters, dist_measure, tol=1e-4):\n",
    "    centroids = init_centroids(X, num_clusters)\n",
    "    prev_sse = float('inf') # keep track \n",
    "    for itr in range(max_iters):\n",
    "        dists = find_distances(X, centroids, dist_measure)\n",
    "        clusters = assign_cluster(dists)\n",
    "        centroids_new = update_centroids(X, clusters, num_clusters)\n",
    "        change = np.linalg.norm(centroids_new - centroids)\n",
    "        if change < tol:\n",
    "            print(\"centroid change below tolerance\")\n",
    "            break\n",
    "        centroids = centroids_new\n",
    "        sse_new = find_sse(X, clusters, centroids)\n",
    "        if sse_new > prev_sse:\n",
    "            print(\"new sse larger than previous sse\")\n",
    "            break\n",
    "        prev_sse = sse_new        \n",
    "    return prev_sse, itr+1"
   ]
  },
  {
   "cell_type": "code",
   "execution_count": 17,
   "id": "98ca6237",
   "metadata": {},
   "outputs": [
    {
     "name": "stdout",
     "output_type": "stream",
     "text": [
      "centroid change below tolerance\n",
      "new sse larger than previous sse\n",
      "new sse larger than previous sse\n"
     ]
    }
   ],
   "source": [
    "max_iters = 500\n",
    "euc_sse, euc_itr = kmeans_mod_1(X, K, max_iters, eucl_dist)\n",
    "cos_sse, cos_itr = kmeans_mod_1(X, K, max_iters, cos_sim_dist)\n",
    "jacc_sse, jacc_itr = kmeans_mod_1(X, K, max_iters, gen_jacc_dist)"
   ]
  },
  {
   "cell_type": "code",
   "execution_count": 18,
   "id": "35c56d98",
   "metadata": {
    "scrolled": true
   },
   "outputs": [
    {
     "name": "stdout",
     "output_type": "stream",
     "text": [
      "Euclidean iterations: 76\n",
      "Cosine iterations: 24\n",
      "Jaccard iterations: 20\n"
     ]
    }
   ],
   "source": [
    "print(\"Euclidean iterations:\", euc_itr)\n",
    "print(\"Cosine iterations:\", cos_itr)\n",
    "print(\"Jaccard iterations:\", jacc_itr)"
   ]
  },
  {
   "cell_type": "code",
   "execution_count": 19,
   "id": "d80ea39f",
   "metadata": {},
   "outputs": [],
   "source": [
    "def kmeans_no_change_centroid(X, num_clusters, max_iters, dist_measure, tol=1e-4):\n",
    "    centroids = init_centroids(X, num_clusters)\n",
    "    prev_sse = float('inf') # keep track \n",
    "    for itr in range(max_iters):\n",
    "        dists = find_distances(X, centroids, dist_measure)\n",
    "        clusters = assign_cluster(dists)\n",
    "        centroids_new = update_centroids(X, clusters, num_clusters)\n",
    "        change = np.linalg.norm(centroids_new - centroids)\n",
    "        if change < tol:\n",
    "            print(\"centroid change below tolerance\")\n",
    "            break\n",
    "        centroids = centroids_new\n",
    "        sse_new = find_sse(X, clusters, centroids)\n",
    "#         if sse_new > prev_sse:\n",
    "#             print(\"new sse larger than previous sse\")\n",
    "#             break\n",
    "        prev_sse = sse_new        \n",
    "    return prev_sse, itr+1\n",
    "\n",
    "def kmeans_sse_increase(X, num_clusters, max_iters, dist_measure, tol=1e-100):\n",
    "    centroids = init_centroids(X, num_clusters)\n",
    "    prev_sse = float('inf') # keep track \n",
    "    for itr in range(max_iters):\n",
    "        dists = find_distances(X, centroids, dist_measure)\n",
    "        clusters = assign_cluster(dists)\n",
    "        centroids_new = update_centroids(X, clusters, num_clusters)\n",
    "#         change = np.linalg.norm(centroids_new - centroids)\n",
    "#         if change < tol:\n",
    "#             print(\"centroid change below tolerance\")\n",
    "#             break\n",
    "        centroids = centroids_new\n",
    "        sse_new = find_sse(X, clusters, centroids)\n",
    "        if sse_new > prev_sse:\n",
    "            print(\"new sse larger than previous sse\")\n",
    "            break\n",
    "        prev_sse = sse_new        \n",
    "    return prev_sse, itr+1\n",
    "\n",
    "def kmeans_max_itrs_complete(X, num_clusters, max_iters, dist_measure, tol=1e-100):\n",
    "    centroids = init_centroids(X, num_clusters)\n",
    "    prev_sse = float('inf') # keep track \n",
    "    for itr in range(max_iters):\n",
    "        dists = find_distances(X, centroids, dist_measure)\n",
    "        clusters = assign_cluster(dists)\n",
    "        centroids_new = update_centroids(X, clusters, num_clusters)\n",
    "        change = np.linalg.norm(centroids_new - centroids)\n",
    "        if change < tol:\n",
    "            print(\"centroid change below tolerance\")\n",
    "            break\n",
    "        centroids = centroids_new\n",
    "        sse_new = find_sse(X, clusters, centroids)\n",
    "#         if sse_new > prev_sse:\n",
    "#             print(\"new sse larger than previous sse\")\n",
    "#             break\n",
    "        prev_sse = sse_new        \n",
    "    return prev_sse, itr+1"
   ]
  },
  {
   "cell_type": "code",
   "execution_count": 20,
   "id": "395e8025",
   "metadata": {},
   "outputs": [
    {
     "name": "stdout",
     "output_type": "stream",
     "text": [
      "centroid change below tolerance\n",
      "centroid change below tolerance\n",
      "centroid change below tolerance\n",
      "Euclidean iterations: 71\n",
      "Cosine iterations: 135\n",
      "Jaccard iterations: 32\n",
      "Euclidean SSE: 389408.06798454165\n",
      "Cosine SSE: 390956.1552859607\n",
      "Jaccard SSE: 390949.00344651745\n"
     ]
    }
   ],
   "source": [
    "# Q4 terminating condition: no change centroid\n",
    "max_iters = 200\n",
    "euc_sse, euc_itr = kmeans_no_change_centroid(X, K, max_iters, eucl_dist)\n",
    "cos_sse, cos_itr = kmeans_no_change_centroid(X, K, max_iters, cos_sim_dist)\n",
    "jacc_sse, jacc_itr = kmeans_no_change_centroid(X, K, max_iters, gen_jacc_dist)\n",
    "\n",
    "print(\"Euclidean iterations:\", euc_itr)\n",
    "print(\"Cosine iterations:\", cos_itr)\n",
    "print(\"Jaccard iterations:\", jacc_itr)\n",
    "print(\"Euclidean SSE: {euc_sse}\".format(euc_sse=euc_sse))\n",
    "print(\"Cosine SSE: {cos_sse}\".format(cos_sse=cos_sse))\n",
    "print(\"Jaccard SSE: {jacc_sse}\".format(jacc_sse=jacc_sse))\n",
    "\n"
   ]
  },
  {
   "cell_type": "code",
   "execution_count": 21,
   "id": "eef19c31",
   "metadata": {},
   "outputs": [
    {
     "name": "stdout",
     "output_type": "stream",
     "text": [
      "new sse larger than previous sse\n",
      "new sse larger than previous sse\n",
      "Euclidean iterations: 200\n",
      "Cosine iterations: 28\n",
      "Jaccard iterations: 27\n",
      "Euclidean SSE: 389410.68557001994\n",
      "Cosine SSE: 392558.53735727724\n",
      "Jaccard SSE: 391066.484809759\n"
     ]
    }
   ],
   "source": [
    "# Q4 terminating condition: sse value increases\n",
    "max_iters = 200\n",
    "euc_sse, euc_itr = kmeans_sse_increase(X, K, max_iters, eucl_dist)\n",
    "cos_sse, cos_itr = kmeans_sse_increase(X, K, max_iters, cos_sim_dist)\n",
    "jacc_sse, jacc_itr = kmeans_sse_increase(X, K, max_iters, gen_jacc_dist)\n",
    "\n",
    "print(\"Euclidean iterations:\", euc_itr)\n",
    "print(\"Cosine iterations:\", cos_itr)\n",
    "print(\"Jaccard iterations:\", jacc_itr)\n",
    "print(\"Euclidean SSE: {euc_sse}\".format(euc_sse=euc_sse))\n",
    "print(\"Cosine SSE: {cos_sse}\".format(cos_sse=cos_sse))\n",
    "print(\"Jaccard SSE: {jacc_sse}\".format(jacc_sse=jacc_sse))"
   ]
  },
  {
   "cell_type": "code",
   "execution_count": 22,
   "id": "21f5245e",
   "metadata": {},
   "outputs": [
    {
     "name": "stdout",
     "output_type": "stream",
     "text": [
      "Euclidean iterations: 50\n",
      "Cosine iterations: 50\n",
      "Jaccard iterations: 50\n",
      "Euclidean SSE: 390196.9929245067\n",
      "Cosine SSE: 391622.01637264126\n",
      "Jaccard SSE: 390923.6038410168\n"
     ]
    }
   ],
   "source": [
    "# Q4 terminating condition: max preset value iter is complete\n",
    "max_iters = 50\n",
    "euc_sse, euc_itr = kmeans_max_itrs_complete(X, K, max_iters, eucl_dist)\n",
    "cos_sse, cos_itr = kmeans_max_itrs_complete(X, K, max_iters, cos_sim_dist)\n",
    "jacc_sse, jacc_itr = kmeans_max_itrs_complete(X, K, max_iters, gen_jacc_dist)\n",
    "\n",
    "print(\"Euclidean iterations:\", euc_itr)\n",
    "print(\"Cosine iterations:\", cos_itr)\n",
    "print(\"Jaccard iterations:\", jacc_itr)\n",
    "print(\"Euclidean SSE: {euc_sse}\".format(euc_sse=euc_sse))\n",
    "print(\"Cosine SSE: {cos_sse}\".format(cos_sse=cos_sse))\n",
    "print(\"Jaccard SSE: {jacc_sse}\".format(jacc_sse=jacc_sse))"
   ]
  }
 ],
 "metadata": {
  "kernelspec": {
   "display_name": "Python 3 (ipykernel)",
   "language": "python",
   "name": "python3"
  },
  "language_info": {
   "codemirror_mode": {
    "name": "ipython",
    "version": 3
   },
   "file_extension": ".py",
   "mimetype": "text/x-python",
   "name": "python",
   "nbconvert_exporter": "python",
   "pygments_lexer": "ipython3",
   "version": "3.9.13"
  }
 },
 "nbformat": 4,
 "nbformat_minor": 5
}
